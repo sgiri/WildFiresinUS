{
 "cells": [
  {
   "cell_type": "markdown",
   "metadata": {},
   "source": [
    "# Wild Fires in US \n",
    "# Objectives  \n",
    "*    **Impact on Land (How many and how big across all states?)**\n",
    "*    **Causes of fires & Is there a correlation between fires and air pollution?**\n",
    "### DataSets from Kaggle \n",
    "    * 1.88 Million US Wildfires (1992 - 2015)  https://www.kaggle.com/rtatman/188-million-us-wildfires\n",
    "    * US Pollution Data (2000 - 2016) https://www.kaggle.com/sogun3/uspollution"
   ]
  },
  {
   "cell_type": "code",
   "execution_count": 1,
   "metadata": {},
   "outputs": [],
   "source": [
    "import sqlite3\n",
    "import pandas as pd\n",
    "import matplotlib.pyplot as plt\n",
    "import numpy as np\n",
    "import seaborn as sns\n",
    "from geopy.geocoders import Nominatim"
   ]
  },
  {
   "cell_type": "markdown",
   "metadata": {},
   "source": [
    "### PART  I\n",
    "### Read Wild Fires Data into a DataFrame\n",
    "Wild Fires Data is in sqlite format\n",
    "Use the pandas read_sql_query function to read the results of a SQL query directly into a DataFrame"
   ]
  },
  {
   "cell_type": "code",
   "execution_count": 2,
   "metadata": {},
   "outputs": [
    {
     "name": "stdout",
     "output_type": "stream",
     "text": [
      "1880465\n"
     ]
    }
   ],
   "source": [
    "# Create a SQL connection to SQLite database\n",
    "cnx = sqlite3.connect('./data/FPA_FOD_20170508.sqlite')\n",
    "df = pd.read_sql_query(\"SELECT FIRE_YEAR,STAT_CAUSE_DESCR,LATITUDE,LONGITUDE,STATE,DISCOVERY_DATE,FIRE_SIZE,FIRE_SIZE_CLASS FROM 'Fires'\", cnx)\n",
    "\n",
    "# Print number of rows in the Fires table\n",
    "print(df.shape[0])\n",
    "\n",
    "# close the connection\n",
    "cnx.close()"
   ]
  },
  {
   "cell_type": "markdown",
   "metadata": {},
   "source": [
    "### Read top 5 rows and analyze the column data\n",
    "    * FIRE_YEAR = Calendar year in which the fire was discovered or confirmed to exist.\n",
    "    * DISCOVERY_DATE = Date on which the fire was discovered or confirmed to exist.\n",
    "    * LATITUDE = Latitude (NAD83) for point location of the fire (decimal degrees).\n",
    "    * LONGITUDE = Longitude (NAD83) for point location of the fire (decimal degrees).\n",
    "    * FIRE_SIZE = Estimate of acres within the final perimeter of the fire.\n",
    "    * FIRESIZECLASS = Code for fire size based on the number of acres within the final fire perimeter expenditures (A=greater than 0 but less than or equal to 0.25 acres, B=0.26-9.9 acres, C=10.0-99.9 acres, D=100-299 acres, E=300 to 999 acres, F=1000 to 4999 acres, and G=5000+ acres).\n"
   ]
  },
  {
   "cell_type": "code",
   "execution_count": 3,
   "metadata": {},
   "outputs": [
    {
     "data": {
      "text/html": [
       "<div>\n",
       "<style scoped>\n",
       "    .dataframe tbody tr th:only-of-type {\n",
       "        vertical-align: middle;\n",
       "    }\n",
       "\n",
       "    .dataframe tbody tr th {\n",
       "        vertical-align: top;\n",
       "    }\n",
       "\n",
       "    .dataframe thead th {\n",
       "        text-align: right;\n",
       "    }\n",
       "</style>\n",
       "<table border=\"1\" class=\"dataframe\">\n",
       "  <thead>\n",
       "    <tr style=\"text-align: right;\">\n",
       "      <th></th>\n",
       "      <th>FIRE_YEAR</th>\n",
       "      <th>STAT_CAUSE_DESCR</th>\n",
       "      <th>LATITUDE</th>\n",
       "      <th>LONGITUDE</th>\n",
       "      <th>STATE</th>\n",
       "      <th>DISCOVERY_DATE</th>\n",
       "      <th>FIRE_SIZE</th>\n",
       "      <th>FIRE_SIZE_CLASS</th>\n",
       "    </tr>\n",
       "  </thead>\n",
       "  <tbody>\n",
       "    <tr>\n",
       "      <th>0</th>\n",
       "      <td>2005</td>\n",
       "      <td>Miscellaneous</td>\n",
       "      <td>40.036944</td>\n",
       "      <td>-121.005833</td>\n",
       "      <td>CA</td>\n",
       "      <td>2453403.5</td>\n",
       "      <td>0.10</td>\n",
       "      <td>A</td>\n",
       "    </tr>\n",
       "    <tr>\n",
       "      <th>1</th>\n",
       "      <td>2004</td>\n",
       "      <td>Lightning</td>\n",
       "      <td>38.933056</td>\n",
       "      <td>-120.404444</td>\n",
       "      <td>CA</td>\n",
       "      <td>2453137.5</td>\n",
       "      <td>0.25</td>\n",
       "      <td>A</td>\n",
       "    </tr>\n",
       "    <tr>\n",
       "      <th>2</th>\n",
       "      <td>2004</td>\n",
       "      <td>Debris Burning</td>\n",
       "      <td>38.984167</td>\n",
       "      <td>-120.735556</td>\n",
       "      <td>CA</td>\n",
       "      <td>2453156.5</td>\n",
       "      <td>0.10</td>\n",
       "      <td>A</td>\n",
       "    </tr>\n",
       "    <tr>\n",
       "      <th>3</th>\n",
       "      <td>2004</td>\n",
       "      <td>Lightning</td>\n",
       "      <td>38.559167</td>\n",
       "      <td>-119.913333</td>\n",
       "      <td>CA</td>\n",
       "      <td>2453184.5</td>\n",
       "      <td>0.10</td>\n",
       "      <td>A</td>\n",
       "    </tr>\n",
       "    <tr>\n",
       "      <th>4</th>\n",
       "      <td>2004</td>\n",
       "      <td>Lightning</td>\n",
       "      <td>38.559167</td>\n",
       "      <td>-119.933056</td>\n",
       "      <td>CA</td>\n",
       "      <td>2453184.5</td>\n",
       "      <td>0.10</td>\n",
       "      <td>A</td>\n",
       "    </tr>\n",
       "  </tbody>\n",
       "</table>\n",
       "</div>"
      ],
      "text/plain": [
       "   FIRE_YEAR STAT_CAUSE_DESCR   LATITUDE   LONGITUDE STATE  DISCOVERY_DATE  \\\n",
       "0       2005    Miscellaneous  40.036944 -121.005833    CA       2453403.5   \n",
       "1       2004        Lightning  38.933056 -120.404444    CA       2453137.5   \n",
       "2       2004   Debris Burning  38.984167 -120.735556    CA       2453156.5   \n",
       "3       2004        Lightning  38.559167 -119.913333    CA       2453184.5   \n",
       "4       2004        Lightning  38.559167 -119.933056    CA       2453184.5   \n",
       "\n",
       "   FIRE_SIZE FIRE_SIZE_CLASS  \n",
       "0       0.10               A  \n",
       "1       0.25               A  \n",
       "2       0.10               A  \n",
       "3       0.10               A  \n",
       "4       0.10               A  "
      ]
     },
     "execution_count": 3,
     "metadata": {},
     "output_type": "execute_result"
    }
   ],
   "source": [
    "df.head(5)"
   ]
  },
  {
   "cell_type": "markdown",
   "metadata": {},
   "source": [
    "### Count null in rows and columns"
   ]
  },
  {
   "cell_type": "code",
   "execution_count": 4,
   "metadata": {},
   "outputs": [
    {
     "data": {
      "text/plain": [
       "0"
      ]
     },
     "execution_count": 4,
     "metadata": {},
     "output_type": "execute_result"
    }
   ],
   "source": [
    "df.isnull().sum().sum()"
   ]
  },
  {
   "cell_type": "markdown",
   "metadata": {},
   "source": [
    "### Add Date, Month, Day Of Week columns"
   ]
  },
  {
   "cell_type": "code",
   "execution_count": 5,
   "metadata": {},
   "outputs": [
    {
     "name": "stdout",
     "output_type": "stream",
     "text": [
      "   FIRE_YEAR STAT_CAUSE_DESCR   LATITUDE   LONGITUDE STATE  DISCOVERY_DATE  \\\n",
      "0       2005    Miscellaneous  40.036944 -121.005833    CA       2453403.5   \n",
      "1       2004        Lightning  38.933056 -120.404444    CA       2453137.5   \n",
      "2       2004   Debris Burning  38.984167 -120.735556    CA       2453156.5   \n",
      "3       2004        Lightning  38.559167 -119.913333    CA       2453184.5   \n",
      "4       2004        Lightning  38.559167 -119.933056    CA       2453184.5   \n",
      "\n",
      "   FIRE_SIZE FIRE_SIZE_CLASS       DATE  MONTH DAY_OF_WEEK  \n",
      "0       0.10               A 2005-02-02      2   Wednesday  \n",
      "1       0.25               A 2004-05-12      5   Wednesday  \n",
      "2       0.10               A 2004-05-31      5      Monday  \n",
      "3       0.10               A 2004-06-28      6      Monday  \n",
      "4       0.10               A 2004-06-28      6      Monday  \n"
     ]
    }
   ],
   "source": [
    "df['DATE'] = pd.to_datetime(df['DISCOVERY_DATE'], unit='D', origin='julian')\n",
    "df['MONTH'] = pd.DatetimeIndex(df['DATE']).month\n",
    "# use formatting to get the day of week\n",
    "df['DAY_OF_WEEK']  = df['DATE'].dt.day_name()\n",
    "\n",
    "print(df.head())"
   ]
  },
  {
   "cell_type": "markdown",
   "metadata": {},
   "source": [
    "### Number of Fires that affected more than 5000 acres (1992-2015)\n",
    "Code for fire size based on the number of acres within the final fire perimeter expenditures (A=greater than 0 but less than or equal to 0.25 acres, B=0.26-9.9 acres, C=10.0-99.9 acres, D=100-299 acres, E=300 to 999 acres, F=1000 to 4999 acres, and G=5000+ acres)."
   ]
  },
  {
   "cell_type": "code",
   "execution_count": 6,
   "metadata": {},
   "outputs": [
    {
     "name": "stdout",
     "output_type": "stream",
     "text": [
      "Number of Fires that affected more than 5000 acres in the period 1992-2015 - 3773\n"
     ]
    }
   ],
   "source": [
    "df_G = df[df.FIRE_SIZE_CLASS == 'G']\n",
    "print(\"Number of Fires that affected more than 5000 acres in the period 1992-2015 - {}\".format(df_G.shape[0]))"
   ]
  },
  {
   "cell_type": "markdown",
   "metadata": {},
   "source": [
    "### Number of Fires By State"
   ]
  },
  {
   "cell_type": "code",
   "execution_count": 10,
   "metadata": {},
   "outputs": [
    {
     "data": {
      "image/png": "[encoded data removed]",
      "text/plain": [
       "<Figure size 1080x720 with 1 Axes>"
      ]
     },
     "metadata": {
      "needs_background": "light"
     },
     "output_type": "display_data"
    },
    {
     "name": "stdout",
     "output_type": "stream",
     "text": [
      "CA    189550\n",
      "GA    168867\n",
      "TX    142021\n",
      "NC    111277\n",
      "FL     90261\n",
      "SC     81315\n",
      "NY     80870\n",
      "MS     79230\n",
      "AZ     71586\n",
      "AL     66570\n",
      "OR     61088\n",
      "MN     44769\n",
      "OK     43239\n",
      "MT     40767\n",
      "NM     37478\n",
      "ID     36698\n",
      "CO     34157\n",
      "WA     33513\n",
      "WI     31861\n",
      "AR     31663\n",
      "TN     31154\n",
      "SD     30963\n",
      "UT     30725\n",
      "LA     30013\n",
      "KY     27089\n",
      "NJ     25949\n",
      "PR     22081\n",
      "WV     21967\n",
      "VA     21833\n",
      "MO     17953\n",
      "NV     16956\n",
      "ND     15201\n",
      "WY     14166\n",
      "ME     13150\n",
      "AK     12843\n",
      "MI     10502\n",
      "HI      9895\n",
      "PA      8712\n",
      "NE      7973\n",
      "KS      7673\n",
      "CT      4976\n",
      "IA      4134\n",
      "MD      3622\n",
      "OH      3479\n",
      "MA      2626\n",
      "NH      2452\n",
      "IL      2327\n",
      "IN      2098\n",
      "RI       480\n",
      "VT       456\n",
      "DE       171\n",
      "DC        66\n",
      "Name: STATE, dtype: int64\n"
     ]
    }
   ],
   "source": [
    "plt.rcParams['figure.figsize'] = [15, 10]\n",
    "df['STATE'].value_counts().head(n=30).plot(kind='bar',color='orange',rot=45,title=\"Number of Fires By State\")\n",
    "plt.show()\n",
    "print(df['STATE'].value_counts())"
   ]
  },
  {
   "cell_type": "markdown",
   "metadata": {},
   "source": [
    "### Largest Fire By Year and State"
   ]
  },
  {
   "cell_type": "code",
   "execution_count": 36,
   "metadata": {},
   "outputs": [
    {
     "name": "stdout",
     "output_type": "stream",
     "text": [
      "         FIRE_YEAR  FIRE_SIZE STATE       DATE\n",
      "45373         1992   177544.0    ID 1992-08-19\n",
      "210651        1993   215360.0    AK 1993-07-14\n",
      "67591         1994   146400.0    ID 1994-07-28\n",
      "223486        1995    64193.0    ID 1995-07-29\n",
      "224699        1996   206202.6    ID 1996-08-27\n",
      "211296        1997   606945.0    AK 1997-06-25\n",
      "1635044       1998    55375.0    TX 1998-05-30\n",
      "211547        1999   232828.0    AK 1999-06-20\n",
      "132150        2000   172135.0    ID 2000-07-10\n",
      "305246        2001   112112.0    AK 2001-06-20\n",
      "153705        2002   499945.0    OR 2002-07-13\n",
      "163770        2003   280059.0    CA 2003-10-25\n",
      "305585        2004   537627.0    AK 2004-06-13\n",
      "1059558       2005   248310.0    AZ 2005-06-21\n",
      "352785        2006   479549.0    TX 2006-03-12\n",
      "1064940       2007   367785.0    ID 2007-07-21\n",
      "654163        2008   220000.0    TX 2008-02-25\n",
      "1215267       2009   517078.0    AK 2009-06-21\n",
      "1216965       2010   306113.0    ID 2010-08-21\n",
      "1459664       2011   538049.0    AZ 2011-05-29\n",
      "1579574       2012   558198.3    OR 2012-07-08\n",
      "1641750       2013   255858.0    CA 2013-08-17\n",
      "1734936       2014   280141.0    OR 2014-07-14\n",
      "1804783       2015   312918.3    AK 2015-06-22\n"
     ]
    },
    {
     "data": {
      "text/plain": [
       "<matplotlib.axes._subplots.AxesSubplot at 0x200ab9fec48>"
      ]
     },
     "execution_count": 36,
     "metadata": {},
     "output_type": "execute_result"
    },
    {
     "data": {
      "image/png": "[encoded data removed]",
      "text/plain": [
       "<Figure size 1080x1080 with 1 Axes>"
      ]
     },
     "metadata": {
      "needs_background": "light"
     },
     "output_type": "display_data"
    }
   ],
   "source": [
    "df2 = df[df['FIRE_SIZE'].isin(df.groupby('FIRE_YEAR')['FIRE_SIZE'].max().values)]\n",
    "df3=df2.sort_values(by=['FIRE_YEAR'])\n",
    "print(df3[['FIRE_YEAR', 'FIRE_SIZE','STATE','DATE']])\n",
    "sns.barplot(x=\"FIRE_YEAR\", y=\"FIRE_SIZE\", hue=\"STATE\", data=df3)"
   ]
  },
  {
   "cell_type": "markdown",
   "metadata": {},
   "source": [
    "\n",
    "###  Reverse GeoCoding in Python\n",
    "   **Used GeoPy library** https://geopy.readthedocs.io/en/stable/"
   ]
  },
  {
   "cell_type": "code",
   "execution_count": 16,
   "metadata": {},
   "outputs": [
    {
     "name": "stdout",
     "output_type": "stream",
     "text": [
      "7365\n"
     ]
    }
   ],
   "source": [
    "geolocator = Nominatim(user_agent='WFirestesting')\n",
    "\n",
    "def get_zipcode(df, geolocator, lat_field, lon_field):\n",
    "    search_key = 'postcode'\n",
    "    location = geolocator.reverse((df[lat_field], df[lon_field]))\n",
    "    if search_key in location.raw['address']: \n",
    "        return(location.raw['address']['postcode'])         \n",
    "    else: \n",
    "        return None\n",
    " \n",
    " # df['zip'] = df.apply(get_zipcode, axis=1, geolocator=geolocator, lat_field='LATITUDE', lon_field='LONGITUDE')\n",
    " \n",
    " # Limit to CA and year 2015\n",
    "cnx = sqlite3.connect('./data/FPA_FOD_20170508.sqlite')\n",
    "df_CA = pd.read_sql_query(\"SELECT FIRE_YEAR,STAT_CAUSE_DESCR,LATITUDE,LONGITUDE,STATE,DISCOVERY_DATE,FIRE_SIZE FROM 'Fires' WHERE STATE='CA' AND FIRE_YEAR > 2014\", cnx)\n",
    "\n",
    "# Print number of fires in CA in year 2015\n",
    "print(df_CA.shape[0])\n",
    "\n",
    "# close the connection\n",
    "cnx.close() \n",
    "\n",
    "\n",
    "# Chunk df_CA dataframe and fill out the 'zip' column\n",
    "#n = 500 \n",
    "#list_df=[]\n",
    "\n",
    "# Use List comprehension to create list of dataframes\n",
    "# [ expression for item in list if conditional ]\n",
    "\n",
    "#list_df = [df_CA[i:i+n] for i in range(0,df_CA.shape[0],n)]\n",
    "\n",
    "#for idx in range(len(list_df)):\n",
    "#    list_df[idx]['zip'] = list_df[idx].apply(get_zipcode, axis=1, geolocator=geolocator, lat_field='LATITUDE', lon_field='LONGITUDE')\n",
    "\n",
    "# Concatenate all dataframes and write to disk for use later\n",
    "#df_result = pd.concat(list_df)\n",
    "#df_result.to_csv('./data/CAfireswithrawzip.csv')\n"
   ]
  },
  {
   "cell_type": "code",
   "execution_count": 15,
   "metadata": {},
   "outputs": [
    {
     "name": "stdout",
     "output_type": "stream",
     "text": [
      "<class 'pandas.core.frame.DataFrame'>\n",
      "RangeIndex: 4835 entries, 0 to 4834\n",
      "Data columns (total 9 columns):\n",
      " #   Column            Non-Null Count  Dtype  \n",
      "---  ------            --------------  -----  \n",
      " 0   Unnamed: 0        4835 non-null   int64  \n",
      " 1   FIRE_YEAR         4835 non-null   int64  \n",
      " 2   STAT_CAUSE_DESCR  4835 non-null   object \n",
      " 3   LATITUDE          4835 non-null   float64\n",
      " 4   LONGITUDE         4835 non-null   float64\n",
      " 5   STATE             4835 non-null   object \n",
      " 6   DISCOVERY_DATE    4835 non-null   float64\n",
      " 7   FIRE_SIZE         4835 non-null   float64\n",
      " 8   zip               4835 non-null   int64  \n",
      "dtypes: float64(4), int64(3), object(2)\n",
      "memory usage: 340.1+ KB\n"
     ]
    },
    {
     "data": {
      "text/html": [
       "<div>\n",
       "<style scoped>\n",
       "    .dataframe tbody tr th:only-of-type {\n",
       "        vertical-align: middle;\n",
       "    }\n",
       "\n",
       "    .dataframe tbody tr th {\n",
       "        vertical-align: top;\n",
       "    }\n",
       "\n",
       "    .dataframe thead th {\n",
       "        text-align: right;\n",
       "    }\n",
       "</style>\n",
       "<table border=\"1\" class=\"dataframe\">\n",
       "  <thead>\n",
       "    <tr style=\"text-align: right;\">\n",
       "      <th></th>\n",
       "      <th>Unnamed: 0</th>\n",
       "      <th>FIRE_YEAR</th>\n",
       "      <th>STAT_CAUSE_DESCR</th>\n",
       "      <th>LATITUDE</th>\n",
       "      <th>LONGITUDE</th>\n",
       "      <th>STATE</th>\n",
       "      <th>DISCOVERY_DATE</th>\n",
       "      <th>FIRE_SIZE</th>\n",
       "      <th>zip</th>\n",
       "    </tr>\n",
       "  </thead>\n",
       "  <tbody>\n",
       "    <tr>\n",
       "      <th>0</th>\n",
       "      <td>523</td>\n",
       "      <td>2015</td>\n",
       "      <td>Lightning</td>\n",
       "      <td>40.384167</td>\n",
       "      <td>-123.395833</td>\n",
       "      <td>CA</td>\n",
       "      <td>2457233.5</td>\n",
       "      <td>0.10</td>\n",
       "      <td>95552</td>\n",
       "    </tr>\n",
       "    <tr>\n",
       "      <th>1</th>\n",
       "      <td>529</td>\n",
       "      <td>2015</td>\n",
       "      <td>Miscellaneous</td>\n",
       "      <td>40.733333</td>\n",
       "      <td>-123.200278</td>\n",
       "      <td>CA</td>\n",
       "      <td>2457181.5</td>\n",
       "      <td>0.10</td>\n",
       "      <td>96048</td>\n",
       "    </tr>\n",
       "    <tr>\n",
       "      <th>2</th>\n",
       "      <td>541</td>\n",
       "      <td>2015</td>\n",
       "      <td>Lightning</td>\n",
       "      <td>40.673889</td>\n",
       "      <td>-123.211667</td>\n",
       "      <td>CA</td>\n",
       "      <td>2457208.5</td>\n",
       "      <td>0.25</td>\n",
       "      <td>96010</td>\n",
       "    </tr>\n",
       "    <tr>\n",
       "      <th>3</th>\n",
       "      <td>546</td>\n",
       "      <td>2015</td>\n",
       "      <td>Lightning</td>\n",
       "      <td>41.017500</td>\n",
       "      <td>-122.694444</td>\n",
       "      <td>CA</td>\n",
       "      <td>2457183.5</td>\n",
       "      <td>0.13</td>\n",
       "      <td>96091</td>\n",
       "    </tr>\n",
       "    <tr>\n",
       "      <th>4</th>\n",
       "      <td>549</td>\n",
       "      <td>2015</td>\n",
       "      <td>Lightning</td>\n",
       "      <td>40.755556</td>\n",
       "      <td>-123.199444</td>\n",
       "      <td>CA</td>\n",
       "      <td>2457212.5</td>\n",
       "      <td>0.10</td>\n",
       "      <td>96048</td>\n",
       "    </tr>\n",
       "    <tr>\n",
       "      <th>5</th>\n",
       "      <td>553</td>\n",
       "      <td>2015</td>\n",
       "      <td>Equipment Use</td>\n",
       "      <td>40.796389</td>\n",
       "      <td>-123.395556</td>\n",
       "      <td>CA</td>\n",
       "      <td>2457250.5</td>\n",
       "      <td>0.25</td>\n",
       "      <td>96048</td>\n",
       "    </tr>\n",
       "    <tr>\n",
       "      <th>6</th>\n",
       "      <td>557</td>\n",
       "      <td>2015</td>\n",
       "      <td>Equipment Use</td>\n",
       "      <td>40.806389</td>\n",
       "      <td>-123.471111</td>\n",
       "      <td>CA</td>\n",
       "      <td>2457321.5</td>\n",
       "      <td>0.10</td>\n",
       "      <td>95527</td>\n",
       "    </tr>\n",
       "    <tr>\n",
       "      <th>7</th>\n",
       "      <td>558</td>\n",
       "      <td>2015</td>\n",
       "      <td>Debris Burning</td>\n",
       "      <td>40.905833</td>\n",
       "      <td>-122.765556</td>\n",
       "      <td>CA</td>\n",
       "      <td>2457329.5</td>\n",
       "      <td>0.10</td>\n",
       "      <td>69091</td>\n",
       "    </tr>\n",
       "    <tr>\n",
       "      <th>8</th>\n",
       "      <td>567</td>\n",
       "      <td>2015</td>\n",
       "      <td>Lightning</td>\n",
       "      <td>40.005000</td>\n",
       "      <td>-122.134167</td>\n",
       "      <td>CA</td>\n",
       "      <td>2457209.5</td>\n",
       "      <td>0.15</td>\n",
       "      <td>96090</td>\n",
       "    </tr>\n",
       "    <tr>\n",
       "      <th>9</th>\n",
       "      <td>570</td>\n",
       "      <td>2015</td>\n",
       "      <td>Lightning</td>\n",
       "      <td>37.246389</td>\n",
       "      <td>-119.205000</td>\n",
       "      <td>CA</td>\n",
       "      <td>2457178.5</td>\n",
       "      <td>0.10</td>\n",
       "      <td>93605</td>\n",
       "    </tr>\n",
       "  </tbody>\n",
       "</table>\n",
       "</div>"
      ],
      "text/plain": [
       "   Unnamed: 0  FIRE_YEAR STAT_CAUSE_DESCR   LATITUDE   LONGITUDE STATE  \\\n",
       "0         523       2015        Lightning  40.384167 -123.395833    CA   \n",
       "1         529       2015    Miscellaneous  40.733333 -123.200278    CA   \n",
       "2         541       2015        Lightning  40.673889 -123.211667    CA   \n",
       "3         546       2015        Lightning  41.017500 -122.694444    CA   \n",
       "4         549       2015        Lightning  40.755556 -123.199444    CA   \n",
       "5         553       2015    Equipment Use  40.796389 -123.395556    CA   \n",
       "6         557       2015    Equipment Use  40.806389 -123.471111    CA   \n",
       "7         558       2015   Debris Burning  40.905833 -122.765556    CA   \n",
       "8         567       2015        Lightning  40.005000 -122.134167    CA   \n",
       "9         570       2015        Lightning  37.246389 -119.205000    CA   \n",
       "\n",
       "   DISCOVERY_DATE  FIRE_SIZE    zip  \n",
       "0       2457233.5       0.10  95552  \n",
       "1       2457181.5       0.10  96048  \n",
       "2       2457208.5       0.25  96010  \n",
       "3       2457183.5       0.13  96091  \n",
       "4       2457212.5       0.10  96048  \n",
       "5       2457250.5       0.25  96048  \n",
       "6       2457321.5       0.10  95527  \n",
       "7       2457329.5       0.10  69091  \n",
       "8       2457209.5       0.15  96090  \n",
       "9       2457178.5       0.10  93605  "
      ]
     },
     "execution_count": 15,
     "metadata": {},
     "output_type": "execute_result"
    }
   ],
   "source": [
    "df_CA_zip_raw = pd.DataFrame(pd.read_csv('./data/CAfireswithrawzip.csv'))\n",
    "\n",
    "def cleanzip(zip_str):\n",
    "    try:\n",
    "        return int(zip_str.split('-')[0])\n",
    "    except:\n",
    "        return 0\n",
    "        \n",
    "#df_CA_zip_raw['zip'] = df_CA_zip_raw['zip'].apply(cleanzip)\n",
    "#df_CA_zip_raw.to_csv('./data/CAfireswithcleanzip.csv')\n",
    "\n",
    "df_CA_zip  = pd.DataFrame(pd.read_csv('./data/CAfireswithcleanzip.csv'))\n",
    "df_CA_zip['zip'] = df_CA_zip['zip'].apply(np.int64)\n",
    "df_CA_zip.info()\n",
    "df_CA_zip.head(10)"
   ]
  },
  {
   "cell_type": "markdown",
   "metadata": {},
   "source": [
    "### PART II\n",
    "### Causes of Fires"
   ]
  },
  {
   "cell_type": "code",
   "execution_count": 28,
   "metadata": {},
   "outputs": [
    {
     "data": {
      "image/png": "[encoded data removed]",
      "text/plain": [
       "<Figure size 1080x720 with 1 Axes>"
      ]
     },
     "metadata": {
      "needs_background": "light"
     },
     "output_type": "display_data"
    }
   ],
   "source": [
    "df['STAT_CAUSE_DESCR'].value_counts().plot(kind='bar',color='orange',rot=30)\n",
    "plt.show()"
   ]
  },
  {
   "cell_type": "markdown",
   "metadata": {},
   "source": [
    "### Causes of Fires in CA"
   ]
  },
  {
   "cell_type": "code",
   "execution_count": 29,
   "metadata": {},
   "outputs": [
    {
     "data": {
      "image/png": "[encoded data removed]",
      "text/plain": [
       "<Figure size 1080x720 with 1 Axes>"
      ]
     },
     "metadata": {
      "needs_background": "light"
     },
     "output_type": "display_data"
    }
   ],
   "source": [
    "df_CA = df[df['STATE']=='CA']\n",
    "df_CA['STAT_CAUSE_DESCR'].value_counts().plot(kind='bar',color='orange',rot=30,title='causes of fires for CA')\n",
    "plt.show()"
   ]
  },
  {
   "cell_type": "markdown",
   "metadata": {},
   "source": [
    "### Correlation between WildFires data and Air Pollution data "
   ]
  },
  {
   "cell_type": "code",
   "execution_count": 39,
   "metadata": {},
   "outputs": [
    {
     "name": "stdout",
     "output_type": "stream",
     "text": [
      "                       AQI\n",
      "STATE FIRE_YEAR           \n",
      "CA    2000       32.715206\n",
      "      2001       34.298837\n",
      "      2002       35.386263\n",
      "      2003       35.599164\n",
      "      2004       34.657625\n",
      "      2005       33.465433\n",
      "      2006       34.933054\n",
      "      2007       34.514307\n",
      "      2008       36.653721\n",
      "      2009       35.336751\n",
      "      2010       33.543562\n",
      "      2011       35.759769\n",
      "      2012       35.912286\n",
      "      2013       37.687996\n",
      "      2014       40.746230\n",
      "      2015       41.070276\n",
      "      2016       32.900000\n"
     ]
    }
   ],
   "source": [
    "df_pollution = pd.read_csv('./data/pollution_us_2000_2016.csv')\n",
    "\n",
    "## Take subset of columns state ,date, O3 AQI\n",
    "df_pollution_state = df_pollution[['State','Date Local','O3 AQI']]\n",
    "df_pollution_state.columns = ['State','Date Local','AQI']\n",
    "\n",
    "# Remove NAs from rows\n",
    "df_pollution_state = df_pollution_state.dropna(axis='rows')  \n",
    "\n",
    "# Remove Mexico\n",
    "df_pollution_state = df_pollution_state[df_pollution_state!='Country Of Mexico']\n",
    "\n",
    "# Format Date field\n",
    "df_pollution_state['Dateformatted'] = pd.to_datetime(df_pollution_state['Date Local'],format='%Y-%m-%d')   \n",
    "df_pollution_state['FIRE_YEAR'] = pd.DatetimeIndex(df_pollution_state['Dateformatted']).year\n",
    "\n",
    "df_pollution_state_CA = df_pollution_state[df_pollution_state['State']=='California']\n",
    "df_pollution_state_CA.loc[:,'STATE']='CA'\n",
    "\n",
    "df_pollution_state_CA_grouped = df_pollution_state_CA.groupby(['STATE','FIRE_YEAR']).mean()\n",
    "print(df_pollution_state_CA_grouped)\n"
   ]
  },
  {
   "cell_type": "code",
   "execution_count": 37,
   "metadata": {},
   "outputs": [
    {
     "name": "stdout",
     "output_type": "stream",
     "text": [
      "<class 'pandas.core.frame.DataFrame'>\n",
      "RangeIndex: 16 entries, 0 to 15\n",
      "Data columns (total 8 columns):\n",
      " #   Column     Non-Null Count  Dtype  \n",
      "---  ------     --------------  -----  \n",
      " 0   STATE      16 non-null     object \n",
      " 1   FIRE_YEAR  16 non-null     int64  \n",
      " 2   mean       16 non-null     float64\n",
      " 3   max        16 non-null     float64\n",
      " 4   count      16 non-null     float64\n",
      " 5   50%        16 non-null     float64\n",
      " 6   75%        16 non-null     float64\n",
      " 7   AQI        16 non-null     float64\n",
      "dtypes: float64(6), int64(1), object(1)\n",
      "memory usage: 1.1+ KB\n"
     ]
    },
    {
     "data": {
      "text/plain": [
       "<matplotlib.axes._subplots.AxesSubplot at 0x200ab627808>"
      ]
     },
     "execution_count": 37,
     "metadata": {},
     "output_type": "execute_result"
    },
    {
     "data": {
      "image/png": "[encoded data removed]",
      "text/plain": [
       "<Figure size 1080x1080 with 2 Axes>"
      ]
     },
     "metadata": {
      "needs_background": "light"
     },
     "output_type": "display_data"
    }
   ],
   "source": [
    "cnx = sqlite3.connect('./data/FPA_FOD_20170508.sqlite')\n",
    "df_CA_allfires = pd.read_sql_query(\"SELECT FIRE_YEAR,STAT_CAUSE_DESCR,LATITUDE,LONGITUDE,STATE,DISCOVERY_DATE,FIRE_SIZE FROM 'Fires' WHERE STATE='CA'\", cnx)\n",
    "df_fires_CA_grouped = df_CA_allfires.groupby(['STATE','FIRE_YEAR'])['FIRE_SIZE'].describe()[['mean','max','count', '50%', '75%']]\n",
    "cnx.close()\n",
    "\n",
    "df_merge = df_fires_CA_grouped.join(df_pollution_state_CA_grouped,how='inner').reset_index()\n",
    "df_merge.info()\n",
    "\n",
    "plt.rcParams['figure.figsize'] = [15, 15]\n",
    "sns.heatmap(df_merge.corr())"
   ]
  },
  {
   "cell_type": "markdown",
   "metadata": {},
   "source": [
    "### CONCLUSION\n",
    "* FOR THE GIVEN **DATASET FIRES IN CA (2000-20015) AND POLLUTION DATA IN CA (2000-20015)** I FIND A **POSITIVE COORELATION** BETWEEN FIRE YEAR, FIRE SIZE MEAN AND FIRE SIZE MAX."
   ]
  },
  {
   "cell_type": "code",
   "execution_count": null,
   "metadata": {},
   "outputs": [],
   "source": []
  }
 ],
 "metadata": {
  "kernelspec": {
   "display_name": "Python 3",
   "language": "python",
   "name": "python3"
  },
  "language_info": {
   "codemirror_mode": {
    "name": "ipython",
    "version": 3
   },
   "file_extension": ".py",
   "mimetype": "text/x-python",
   "name": "python",
   "nbconvert_exporter": "python",
   "pygments_lexer": "ipython3",
   "version": "3.7.6"
  }
 },
 "nbformat": 4,
 "nbformat_minor": 4
}
